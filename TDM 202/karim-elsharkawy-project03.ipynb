{
 "cells": [
  {
   "cell_type": "markdown",
   "id": "be02a957-7133-4d02-818e-fedeb3cecb05",
   "metadata": {},
   "source": [
    "# Project 3-- [Karim] [El-Sharkawy]"
   ]
  },
  {
   "cell_type": "markdown",
   "id": "a1228853-dd19-4ab2-89e0-0394d7d72de3",
   "metadata": {},
   "source": [
    "**TA Help:** Ananya Goel\n",
    "\n",
    "- Helped me figure out 3B :) Specifically, with the last two lines of code. I also misunderstood the problem so she helped m"
   ]
  },
  {
   "cell_type": "markdown",
   "id": "6180e742-8e39-4698-98ff-5b00c8cf8ea0",
   "metadata": {},
   "source": [
    "## Question 1"
   ]
  },
  {
   "cell_type": "markdown",
   "id": "2c335d00-f3ce-4ebf-8a8b-6ad07b558a8a",
   "metadata": {},
   "source": [
    "**A**"
   ]
  },
  {
   "cell_type": "code",
   "execution_count": 9,
   "id": "7cf9a643-933f-463f-9eed-6e5555ad9636",
   "metadata": {},
   "outputs": [],
   "source": [
    "from selenium import webdriver\n",
    "from selenium.webdriver.common.by import By\n",
    "from selenium.webdriver.firefox.service import Service\n",
    "from webdriver_manager.firefox import GeckoDriverManager\n",
    "from selenium.webdriver.firefox.options import Options\n",
    "\n",
    "firefox_options = Options()\n",
    "firefox_options.add_argument(\"--headless\")\n",
    "firefox_options.add_argument(\"--disable-extensions\")\n",
    "firefox_options.add_argument(\"--no-sandbox\")\n",
    "firefox_options.add_argument(\"--disable-dev-shm-usage\")"
   ]
  },
  {
   "cell_type": "code",
   "execution_count": 10,
   "id": "b55554fa-7162-40d2-bd71-27f6d8a28a91",
   "metadata": {},
   "outputs": [],
   "source": [
    "driver = webdriver.Firefox(service=Service(GeckoDriverManager().install()),options=firefox_options)"
   ]
  },
  {
   "cell_type": "code",
   "execution_count": 11,
   "id": "ff5af064-b8d2-41a8-b251-82a0b1618457",
   "metadata": {},
   "outputs": [
    {
     "name": "stdout",
     "output_type": "stream",
     "text": [
      "<html lang=\"en-us\" class=\"no-js\"><!--<![endif]--><head>\n",
      "        <title>\n",
      "    All products | Books to Scrape - Sandbox\n",
      "</title>\n",
      "\n",
      "        <meta http-equiv=\"content-type\" content=\"text/html; charset=UTF-8\">\n",
      "        <meta name=\"created\" content=\"24th Jun 2016 09:29\">\n",
      "        <meta name=\"description\" content=\"\">\n",
      "        <meta name=\"viewport\" content=\"width=device-width\">\n",
      "        <meta name=\"robots\" content=\"NOARCHIVE,NOCACHE\">\n",
      "\n",
      "        <!-- Le HTML5 shim, for IE6-8 support of HTML elements -->\n",
      "        <!--[if lt IE 9]>\n",
      "        <script src=\"//html5shim.googlecode.com/svn/trunk/html5.js\"></script>\n",
      "        <![endif]-->\n",
      "\n",
      "        \n",
      "            <link rel=\"shortcut icon\" href=\"static/oscar/favicon.ico\">\n",
      "        \n",
      "\n",
      "        \n",
      "        \n",
      "    \n",
      "    \n",
      "        <link rel=\"stylesheet\" type=\"text/css\" href=\"static/oscar/css/styles.css\">\n",
      "    \n",
      "    <link rel=\"stylesheet\" href=\"static/oscar/js/bootstrap-datetimepicker/bootstrap-datetimepicker.css\">\n",
      "    <link rel=\"stylesheet\" type=\"text/css\" href=\"static/oscar/css/date\n"
     ]
    }
   ],
   "source": [
    "driver.get(\"https://books.toscrape.com\")\n",
    "# the code is extremely long so I have it set to a limit of 1000 characters\n",
    "print(driver.page_source[:1000])"
   ]
  },
  {
   "cell_type": "markdown",
   "id": "8f22d44d-1263-42ec-be01-44b01f29505f",
   "metadata": {},
   "source": [
    "I use the .pagesource function to scarpe the link in the .get function. I have a limit of 1000 characters so that this file isn't very long, I hope I still egt full points. I understand that if I want the entire code, I just write: print(driver.page_source[:])"
   ]
  },
  {
   "cell_type": "markdown",
   "id": "ea5f1039-6c74-4ab5-8884-7e4f1a8d53d5",
   "metadata": {},
   "source": [
    "**B**"
   ]
  },
  {
   "cell_type": "code",
   "execution_count": 12,
   "id": "5fab7c40-6553-4d36-9b29-bc0fa94b5fc0",
   "metadata": {},
   "outputs": [
    {
     "data": {
      "text/plain": [
       "'All products | Books to Scrape - Sandbox'"
      ]
     },
     "execution_count": 12,
     "metadata": {},
     "output_type": "execute_result"
    }
   ],
   "source": [
    "driver.title"
   ]
  },
  {
   "cell_type": "markdown",
   "id": "b456e57c-4a12-464b-999a-ef2df5af80c1",
   "metadata": {},
   "source": [
    "Pretty simple here, no need to .text.strip() like bs4"
   ]
  },
  {
   "cell_type": "markdown",
   "id": "fc601975-35ed-4680-a4e1-0273ee3cc047",
   "metadata": {},
   "source": [
    "## Question 2"
   ]
  },
  {
   "cell_type": "code",
   "execution_count": 13,
   "id": "a16336a1-1ef0-41e8-bc7c-49387db27497",
   "metadata": {},
   "outputs": [
    {
     "name": "stdout",
     "output_type": "stream",
     "text": [
      "Travel\n",
      "Mystery\n",
      "Historical Fiction\n",
      "Sequential Art\n",
      "Classics\n",
      "Philosophy\n",
      "Romance\n",
      "Womens Fiction\n",
      "Fiction\n",
      "Childrens\n",
      "Religion\n",
      "Nonfiction\n",
      "Music\n",
      "Default\n",
      "Science Fiction\n",
      "Sports and Games\n",
      "Add a comment\n",
      "Fantasy\n",
      "New Adult\n",
      "Young Adult\n",
      "Science\n",
      "Poetry\n",
      "Paranormal\n",
      "Art\n",
      "Psychology\n",
      "Autobiography\n",
      "Parenting\n",
      "Adult Fiction\n",
      "Humor\n",
      "Horror\n",
      "History\n",
      "Food and Drink\n",
      "Christian Fiction\n",
      "Business\n",
      "Biography\n",
      "Thriller\n",
      "Contemporary\n",
      "Spirituality\n",
      "Academic\n",
      "Self Help\n",
      "Historical\n",
      "Christian\n",
      "Suspense\n",
      "Short Stories\n",
      "Novels\n",
      "Health\n",
      "Politics\n",
      "Cultural\n",
      "Erotica\n",
      "Crime\n"
     ]
    }
   ],
   "source": [
    "for e in driver.find_elements(\"xpath\", \"//li/ul/li/a\"):\n",
    "    print(e.text) #note: I'm using xpath. If I was using CSS.Selector, then the .text function doesn't work"
   ]
  },
  {
   "cell_type": "markdown",
   "id": "14dc22d4-ddc3-41cc-a91a-cb0025bc0c80",
   "metadata": {},
   "source": [
    "Pretty similar to last time, however what I tell xpath to look at is written slightly differently"
   ]
  },
  {
   "cell_type": "markdown",
   "id": "8e586edd-ff26-4ce2-8f6b-2424b26f2929",
   "metadata": {},
   "source": [
    "## Question 3"
   ]
  },
  {
   "cell_type": "markdown",
   "id": "2b752101-9043-4c0f-910d-9072749b840d",
   "metadata": {},
   "source": [
    "**A**"
   ]
  },
  {
   "cell_type": "code",
   "execution_count": 14,
   "id": "bbe0f40d-9655-4653-9ca8-886bdb61cb91",
   "metadata": {},
   "outputs": [
    {
     "name": "stdout",
     "output_type": "stream",
     "text": [
      "The link for Travel is https://books.toscrape.com/catalogue/category/books/travel_2/index.html\n",
      "The link for Mystery is https://books.toscrape.com/catalogue/category/books/mystery_3/index.html\n",
      "The link for Historical Fiction is https://books.toscrape.com/catalogue/category/books/historical-fiction_4/index.html\n",
      "The link for Sequential Art is https://books.toscrape.com/catalogue/category/books/sequential-art_5/index.html\n",
      "The link for Classics is https://books.toscrape.com/catalogue/category/books/classics_6/index.html\n",
      "The link for Philosophy is https://books.toscrape.com/catalogue/category/books/philosophy_7/index.html\n",
      "The link for Romance is https://books.toscrape.com/catalogue/category/books/romance_8/index.html\n",
      "The link for Womens Fiction is https://books.toscrape.com/catalogue/category/books/womens-fiction_9/index.html\n",
      "The link for Fiction is https://books.toscrape.com/catalogue/category/books/fiction_10/index.html\n",
      "The link for Childrens is https://books.toscrape.com/catalogue/category/books/childrens_11/index.html\n",
      "The link for Religion is https://books.toscrape.com/catalogue/category/books/religion_12/index.html\n",
      "The link for Nonfiction is https://books.toscrape.com/catalogue/category/books/nonfiction_13/index.html\n",
      "The link for Music is https://books.toscrape.com/catalogue/category/books/music_14/index.html\n",
      "The link for Default is https://books.toscrape.com/catalogue/category/books/default_15/index.html\n",
      "The link for Science Fiction is https://books.toscrape.com/catalogue/category/books/science-fiction_16/index.html\n",
      "The link for Sports and Games is https://books.toscrape.com/catalogue/category/books/sports-and-games_17/index.html\n",
      "The link for Add a comment is https://books.toscrape.com/catalogue/category/books/add-a-comment_18/index.html\n",
      "The link for Fantasy is https://books.toscrape.com/catalogue/category/books/fantasy_19/index.html\n",
      "The link for New Adult is https://books.toscrape.com/catalogue/category/books/new-adult_20/index.html\n",
      "The link for Young Adult is https://books.toscrape.com/catalogue/category/books/young-adult_21/index.html\n",
      "The link for Science is https://books.toscrape.com/catalogue/category/books/science_22/index.html\n",
      "The link for Poetry is https://books.toscrape.com/catalogue/category/books/poetry_23/index.html\n",
      "The link for Paranormal is https://books.toscrape.com/catalogue/category/books/paranormal_24/index.html\n",
      "The link for Art is https://books.toscrape.com/catalogue/category/books/art_25/index.html\n",
      "The link for Psychology is https://books.toscrape.com/catalogue/category/books/psychology_26/index.html\n",
      "The link for Autobiography is https://books.toscrape.com/catalogue/category/books/autobiography_27/index.html\n",
      "The link for Parenting is https://books.toscrape.com/catalogue/category/books/parenting_28/index.html\n",
      "The link for Adult Fiction is https://books.toscrape.com/catalogue/category/books/adult-fiction_29/index.html\n",
      "The link for Humor is https://books.toscrape.com/catalogue/category/books/humor_30/index.html\n",
      "The link for Horror is https://books.toscrape.com/catalogue/category/books/horror_31/index.html\n",
      "The link for History is https://books.toscrape.com/catalogue/category/books/history_32/index.html\n",
      "The link for Food and Drink is https://books.toscrape.com/catalogue/category/books/food-and-drink_33/index.html\n",
      "The link for Christian Fiction is https://books.toscrape.com/catalogue/category/books/christian-fiction_34/index.html\n",
      "The link for Business is https://books.toscrape.com/catalogue/category/books/business_35/index.html\n",
      "The link for Biography is https://books.toscrape.com/catalogue/category/books/biography_36/index.html\n",
      "The link for Thriller is https://books.toscrape.com/catalogue/category/books/thriller_37/index.html\n",
      "The link for Contemporary is https://books.toscrape.com/catalogue/category/books/contemporary_38/index.html\n",
      "The link for Spirituality is https://books.toscrape.com/catalogue/category/books/spirituality_39/index.html\n",
      "The link for Academic is https://books.toscrape.com/catalogue/category/books/academic_40/index.html\n",
      "The link for Self Help is https://books.toscrape.com/catalogue/category/books/self-help_41/index.html\n",
      "The link for Historical is https://books.toscrape.com/catalogue/category/books/historical_42/index.html\n",
      "The link for Christian is https://books.toscrape.com/catalogue/category/books/christian_43/index.html\n",
      "The link for Suspense is https://books.toscrape.com/catalogue/category/books/suspense_44/index.html\n",
      "The link for Short Stories is https://books.toscrape.com/catalogue/category/books/short-stories_45/index.html\n",
      "The link for Novels is https://books.toscrape.com/catalogue/category/books/novels_46/index.html\n",
      "The link for Health is https://books.toscrape.com/catalogue/category/books/health_47/index.html\n",
      "The link for Politics is https://books.toscrape.com/catalogue/category/books/politics_48/index.html\n",
      "The link for Cultural is https://books.toscrape.com/catalogue/category/books/cultural_49/index.html\n",
      "The link for Erotica is https://books.toscrape.com/catalogue/category/books/erotica_50/index.html\n",
      "The link for Crime is https://books.toscrape.com/catalogue/category/books/crime_51/index.html\n"
     ]
    }
   ],
   "source": [
    "for e in driver.find_elements(\"xpath\", \"//li/ul/li/a\"):\n",
    "    print(\"The link for\",e.text, \"is\", e.get_attribute('href'))"
   ]
  },
  {
   "cell_type": "markdown",
   "id": "21d43195-244e-4d18-bc65-1fcd8d44efb8",
   "metadata": {},
   "source": [
    "Almost exactly like #2, but we're now getting the links for them as well. For this, we simple use .get_attribute('href'). I tried to make it look nice and easy to read"
   ]
  },
  {
   "cell_type": "markdown",
   "id": "f1e1563b-4785-47d2-9fb6-4d350c04e731",
   "metadata": {},
   "source": [
    "**B**"
   ]
  },
  {
   "cell_type": "code",
   "execution_count": 15,
   "id": "febdb906-a6c2-42ce-ad2f-ac089439cc65",
   "metadata": {},
   "outputs": [
    {
     "name": "stdout",
     "output_type": "stream",
     "text": [
      "Category: Romance, Link: https://books.toscrape.com/catalogue/category/books/romance_8/index.html\n"
     ]
    }
   ],
   "source": [
    "categories = driver.find_elements(By.CSS_SELECTOR,\".nav-list>li>ul>li>a\" ) #finding the categories using CSS_SELECTOR\n",
    "for book in categories:\n",
    "    if book.text == \"Romance\": #finding the romance section\n",
    "        myResult = book.get_attribute('href') #getting the link\n",
    "        print( f\"Category: {book.text.strip()}, Link: {myResult}\") #printing it out and making it look nice\n",
    "        break"
   ]
  },
  {
   "cell_type": "markdown",
   "id": "47c6229f-35f7-400c-8366-c442baa5cf47",
   "metadata": {},
   "source": [
    "Markdown notes and sentences and analysis written here."
   ]
  },
  {
   "cell_type": "markdown",
   "id": "da22f29c-d245-4d2b-9fc1-ca14cb6087d9",
   "metadata": {},
   "source": [
    "## Question 4"
   ]
  },
  {
   "cell_type": "markdown",
   "id": "7dbf80c4-c310-47a1-8a40-967b1114004a",
   "metadata": {},
   "source": [
    "**A**"
   ]
  },
  {
   "cell_type": "code",
   "execution_count": 16,
   "id": "8cffc767-d1c8-4d64-b7dc-f0d2ee8a80d1",
   "metadata": {},
   "outputs": [
    {
     "name": "stdout",
     "output_type": "stream",
     "text": [
      "Chase Me (Paris Nights #2)\n",
      "Black Dust\n",
      "Her Backup Boyfriend (The Sorensen Family #1)\n",
      "First and First (Five Boroughs #3)\n",
      "Fifty Shades Darker (Fifty Shades #2)\n",
      "The Wedding Dress\n",
      "Suddenly in Love (Lake Haven #1)\n",
      "Something More Than This\n",
      "Doing It Over (Most Likely To #1)\n",
      "The Wedding Pact (The O'Malleys #2)\n",
      "Hold Your Breath (Search and Rescue #1)\n",
      "Dirty (Dive Bar #1)\n",
      "Take Me Home Tonight (Rock Star Romance #3)\n",
      "Off the Hook (Fishing for Trouble #1)\n",
      "A Gentleman's Position (Society of Gentlemen #3)\n",
      "Sit, Stay, Love\n",
      "A Girl's Guide to Moving On (New Beginnings #2)\n",
      "The Perfect Play (Play by Play #1)\n",
      "Dark Lover (Black Dagger Brotherhood #1)\n",
      "Changing the Game (Play by Play #2)\n"
     ]
    }
   ],
   "source": [
    "driver.get(myResult)\n",
    "\n",
    "for e in driver.find_elements(\"xpath\",\"//article/div/a/img\"): #telling xpath to go to the a and img tags\n",
    "    bookResult = e.get_attribute('alt') #getting the books\n",
    "    print(bookResult)"
   ]
  },
  {
   "cell_type": "markdown",
   "id": "e54e052c-431c-4049-ac3a-40056f719ef1",
   "metadata": {},
   "source": [
    "Just getting the names of the books :)"
   ]
  },
  {
   "cell_type": "markdown",
   "id": "144997b2-78b6-44a4-8261-f56e5952c0c7",
   "metadata": {},
   "source": [
    "**B**"
   ]
  },
  {
   "cell_type": "code",
   "execution_count": 17,
   "id": "7a62ed17-53a8-4ec5-8760-12cf64ddb47b",
   "metadata": {},
   "outputs": [
    {
     "name": "stdout",
     "output_type": "stream",
     "text": [
      "A Walk to Remember\n",
      "The Purest Hook (Second Circle Tattoos #3)\n",
      "The Obsession\n",
      "Reservations for Two\n",
      "Best of My Love (Fool's Gold #20)\n",
      "Where Lightning Strikes (Bleeding Stars #3)\n",
      "This One Moment (Pushing Limits #1)\n",
      "Rhythm, Chord & Malykhin\n",
      "My Perfect Mistake (Over the Top #1)\n",
      "Listen to Me (Fusion #1)\n",
      "Imperfect Harmony\n",
      "Fighting Fate (Fighting #6)\n",
      "Deep Under (Walker Security #1)\n",
      "Charity's Cross (Charles Towne Belles #4)\n",
      "Bounty (Colorado Mountain #7)\n"
     ]
    }
   ],
   "source": [
    "for e in driver.find_elements(\"xpath\",\"//li[@class='next']/a\"):\n",
    "    nextResult = e.get_attribute('href') #getting the link\n",
    "driver.get(nextResult) #accessing the link exaclty like in #1\n",
    "\n",
    "for e in driver.find_elements(\"xpath\",\"//article/div/a/img\"):\n",
    "    print(e.get_attribute('alt')) #finding all the books in the link and printing them out"
   ]
  },
  {
   "cell_type": "markdown",
   "id": "0d552245-b4d6-474a-9cc9-fa7b8e674d55",
   "metadata": {},
   "source": [
    "Getting the names of the books on the second page!"
   ]
  },
  {
   "cell_type": "markdown",
   "id": "88c9cdac-3e92-498f-83fa-e089bfc44ac8",
   "metadata": {},
   "source": [
    "## Question 5"
   ]
  },
  {
   "cell_type": "markdown",
   "id": "9fbf00fb-2418-460f-ae94-2a32b0c28952",
   "metadata": {},
   "source": [
    "There are many similarities between bs4 and selenium, including how to parse and scrape a website. All we need to do is add the link into the .get function and parse it, however the parsing is done a little differently. The syntax is slightly different in that respect, although not drastically. For example, we didn't need to add // when using beautifulsoup4.\n",
    "\n",
    "I found it easier to work with Selenium, al though that may be because I am coding more and so everything is just getting easier. Something to notice is that selenium has more options to parse compared to bs4, but it also has to import more. I don't have to parse with xpath if I want to, I can use CSS_SELECTOR or like 3-4 other ways if I wanted to.\n",
    "\n",
    "Overall, I would say I like to use Selenium more because the features it has. When working with BeautifulSoup4, it was sometimes frustrating because the full book titles wouldn't load, which wasn't a problem with Selenium. Working with Selenium would make it easier, especially on long pages like Pnterest (mentioned in the examples book)\n",
    "\n",
    "Also, the webpage has a part a, but no part b. I'm assuming this is just a mistake :)"
   ]
  },
  {
   "cell_type": "markdown",
   "id": "f76442d6-d02e-4f26-b9d6-c3183e1d6929",
   "metadata": {},
   "source": [
    "## Pledge\n",
    "\n",
    "By submitting this work I hereby pledge that this is my own, personal work. I've acknowledged in the designated place at the top of this file all sources that I used to complete said work, including but not limited to: online resources, books, and electronic communications. I've noted all collaboration with fellow students and/or TA's. I did not copy or plagiarize another's work.\n",
    "\n",
    "> As a Boilermaker pursuing academic excellence, I pledge to be honest and true in all that I do. Accountable together – We are Purdue."
   ]
  }
 ],
 "metadata": {
  "kernelspec": {
   "display_name": "seminar",
   "language": "python",
   "name": "seminar"
  },
  "language_info": {
   "codemirror_mode": {
    "name": "ipython",
    "version": 3
   },
   "file_extension": ".py",
   "mimetype": "text/x-python",
   "name": "python",
   "nbconvert_exporter": "python",
   "pygments_lexer": "ipython3",
   "version": "3.11.5"
  }
 },
 "nbformat": 4,
 "nbformat_minor": 5
}
