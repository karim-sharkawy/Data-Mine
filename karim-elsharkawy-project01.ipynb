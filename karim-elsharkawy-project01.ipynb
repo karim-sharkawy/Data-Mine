{
 "cells": [
  {
   "cell_type": "markdown",
   "id": "be02a957-7133-4d02-818e-fedeb3cecb05",
   "metadata": {},
   "source": [
    "# Project 1 -- El-Sharkawy Karim"
   ]
  },
  {
   "cell_type": "markdown",
   "id": "a1228853-dd19-4ab2-89e0-0394d7d72de3",
   "metadata": {},
   "source": [
    "**TA Help:** No TA help :)\n",
    "    \n",
    "**Collaboration:** None :)"
   ]
  },
  {
   "cell_type": "markdown",
   "id": "6180e742-8e39-4698-98ff-5b00c8cf8ea0",
   "metadata": {},
   "source": [
    "## Question 1"
   ]
  },
  {
   "cell_type": "code",
   "execution_count": 1,
   "id": "49445606-d363-41b4-b479-e319a9a84c01",
   "metadata": {},
   "outputs": [
    {
     "data": {
      "text/plain": [
       "'{urn:hl7-org:v3}document'"
      ]
     },
     "execution_count": 1,
     "metadata": {},
     "output_type": "execute_result"
    }
   ],
   "source": [
    "# Note: my name is spelled Karim El-Sharkawy. I don't know if the file will be messed up if I add the hyphen\n",
    "import lxml.etree\n",
    "\n",
    "# Loading and parsing the data\n",
    "tree = lxml.etree.parse(\"/anvil/projects/tdm/data/otc/valu.xml\")\n",
    "tree.xpath(\"//ns:*\", namespaces = {'ns': 'urn:hl7-org:v3'})[0].tag\n",
    "# urn:hl7-org:v3 IS the namespace"
   ]
  },
  {
   "cell_type": "markdown",
   "id": "b456e57c-4a12-464b-999a-ef2df5af80c1",
   "metadata": {},
   "source": [
    "'{urn:hl7-org:v3}document'"
   ]
  },
  {
   "cell_type": "markdown",
   "id": "fc601975-35ed-4680-a4e1-0273ee3cc047",
   "metadata": {},
   "source": [
    "## Question 2"
   ]
  },
  {
   "cell_type": "code",
   "execution_count": 2,
   "id": "a16336a1-1ef0-41e8-bc7c-49387db27497",
   "metadata": {},
   "outputs": [
    {
     "name": "stdout",
     "output_type": "stream",
     "text": [
      "1004-BST-2021-1116\n",
      "Active ingredient (in each caplet)\n",
      "Purpose\n",
      "Uses\n",
      "Warnings\n",
      "Liver warning\n",
      "Do not use\n",
      "Stop use and ask a doctor if\n",
      "Overdose warning\n",
      "Directions\n",
      "Other information\n",
      "Inactive ingredients\n",
      "PRINCIPAL DISPLAY PANEL\n"
     ]
    }
   ],
   "source": [
    "for e in tree.xpath(\"//ns:title\", namespaces = {'ns': 'urn:hl7-org:v3'}):\n",
    "    print(e.text)"
   ]
  },
  {
   "cell_type": "markdown",
   "id": "14dc22d4-ddc3-41cc-a91a-cb0025bc0c80",
   "metadata": {},
   "source": [
    "1004-BST-2021-1116\n",
    "Active ingredient (in each caplet)\n",
    "Purpose\n",
    "Uses\n",
    "Warnings\n",
    "Liver warning\n",
    "Do not use\n",
    "Stop use and ask a doctor if\n",
    "Overdose warning\n",
    "Directions\n",
    "Other information\n",
    "Inactive ingredients\n",
    "PRINCIPAL DISPLAY PANEL"
   ]
  },
  {
   "cell_type": "markdown",
   "id": "8e586edd-ff26-4ce2-8f6b-2424b26f2929",
   "metadata": {},
   "source": [
    "## Question 3"
   ]
  },
  {
   "cell_type": "code",
   "execution_count": 3,
   "id": "bbe0f40d-9655-4653-9ca8-886bdb61cb91",
   "metadata": {},
   "outputs": [
    {
     "name": "stdout",
     "output_type": "stream",
     "text": [
      "None\n",
      "None\n",
      "1004-BST-2021-1116\n",
      "None\n",
      "None\n",
      "None\n",
      "\n",
      "      \n",
      "\n",
      "      \n"
     ]
    }
   ],
   "source": [
    "for e in tree.xpath(\"//ns:document\", namespaces = {'ns': 'urn:hl7-org:v3'}):\n",
    "    for childelement in e.getchildren():\n",
    "        print(childelement.text)"
   ]
  },
  {
   "cell_type": "markdown",
   "id": "47c6229f-35f7-400c-8366-c442baa5cf47",
   "metadata": {},
   "source": [
    "None\n",
    "None\n",
    "1004-BST-2021-1116\n",
    "None\n",
    "None\n",
    "None"
   ]
  },
  {
   "cell_type": "markdown",
   "id": "da22f29c-d245-4d2b-9fc1-ca14cb6087d9",
   "metadata": {},
   "source": [
    "## Question 4"
   ]
  },
  {
   "cell_type": "code",
   "execution_count": 4,
   "id": "8cffc767-d1c8-4d64-b7dc-f0d2ee8a80d1",
   "metadata": {},
   "outputs": [
    {
     "name": "stdout",
     "output_type": "stream",
     "text": [
      "{'root': 'd11b114c-c1ce-587f-e053-2a95a90a11e1'}\n",
      "{'code': '34390-5', 'codeSystem': '2.16.840.1.113883.6.1', 'displayName': 'HUMAN OTC DRUG LABEL'}\n",
      "{}\n",
      "{'value': '20211118'}\n",
      "{'root': '005e299e-aa84-49d9-bbca-12236f865a27'}\n",
      "{'value': '2'}\n",
      "{}\n",
      "{}\n"
     ]
    }
   ],
   "source": [
    "for e in tree.xpath(\"//ns:document\", namespaces = {'ns': 'urn:hl7-org:v3'}):\n",
    "    for childelement in e.getchildren():\n",
    "        print(childelement.attrib)"
   ]
  },
  {
   "cell_type": "markdown",
   "id": "0d552245-b4d6-474a-9cc9-fa7b8e674d55",
   "metadata": {},
   "source": [
    "{'root': 'd11b114c-c1ce-587f-e053-2a95a90a11e1'}\n",
    "{'code': '34390-5', 'codeSystem': '2.16.840.1.113883.6.1', 'displayName': 'HUMAN OTC DRUG LABEL'}\n",
    "{}\n",
    "{'value': '20211118'}\n",
    "{'root': '005e299e-aa84-49d9-bbca-12236f865a27'}\n",
    "{'value': '2'}\n",
    "{}\n",
    "{}"
   ]
  },
  {
   "cell_type": "markdown",
   "id": "88c9cdac-3e92-498f-83fa-e089bfc44ac8",
   "metadata": {},
   "source": [
    "## Question 5"
   ]
  },
  {
   "cell_type": "markdown",
   "id": "8cde7ec2-36ba-4e93-b69b-9cad4cc2d1cc",
   "metadata": {},
   "source": [
    "A"
   ]
  },
  {
   "cell_type": "code",
   "execution_count": 5,
   "id": "d370d7c9-06db-42b9-b75f-240481a5c491",
   "metadata": {},
   "outputs": [
    {
     "data": {
      "text/plain": [
       "[<Element {urn:hl7-org:v3}code at 0x7fa269892480>,\n",
       " <Element {urn:hl7-org:v3}code at 0x7fa2698924c0>,\n",
       " <Element {urn:hl7-org:v3}code at 0x7fa269892500>,\n",
       " <Element {urn:hl7-org:v3}formCode at 0x7fa269892540>,\n",
       " <Element {urn:hl7-org:v3}code at 0x7fa269892580>,\n",
       " <Element {urn:hl7-org:v3}code at 0x7fa269892600>,\n",
       " <Element {urn:hl7-org:v3}code at 0x7fa269892640>,\n",
       " <Element {urn:hl7-org:v3}code at 0x7fa269892680>,\n",
       " <Element {urn:hl7-org:v3}code at 0x7fa2698926c0>,\n",
       " <Element {urn:hl7-org:v3}code at 0x7fa2698925c0>,\n",
       " <Element {urn:hl7-org:v3}code at 0x7fa269892700>,\n",
       " <Element {urn:hl7-org:v3}code at 0x7fa269892740>,\n",
       " <Element {urn:hl7-org:v3}code at 0x7fa269892780>,\n",
       " <Element {urn:hl7-org:v3}code at 0x7fa2698927c0>,\n",
       " <Element {urn:hl7-org:v3}code at 0x7fa269892800>,\n",
       " <Element {urn:hl7-org:v3}formCode at 0x7fa269892840>,\n",
       " <Element {urn:hl7-org:v3}code at 0x7fa269892880>,\n",
       " <Element {urn:hl7-org:v3}formCode at 0x7fa2698928c0>,\n",
       " <Element {urn:hl7-org:v3}code at 0x7fa269892900>,\n",
       " <Element {urn:hl7-org:v3}code at 0x7fa269892940>,\n",
       " <Element {urn:hl7-org:v3}value at 0x7fa269892980>,\n",
       " <Element {urn:hl7-org:v3}formCode at 0x7fa2698929c0>,\n",
       " <Element {urn:hl7-org:v3}code at 0x7fa269892a00>,\n",
       " <Element {urn:hl7-org:v3}formCode at 0x7fa269892a40>,\n",
       " <Element {urn:hl7-org:v3}code at 0x7fa269892a80>,\n",
       " <Element {urn:hl7-org:v3}code at 0x7fa269892ac0>,\n",
       " <Element {urn:hl7-org:v3}value at 0x7fa269892b00>,\n",
       " <Element {urn:hl7-org:v3}formCode at 0x7fa269892b40>,\n",
       " <Element {urn:hl7-org:v3}code at 0x7fa269892b80>,\n",
       " <Element {urn:hl7-org:v3}formCode at 0x7fa269892bc0>,\n",
       " <Element {urn:hl7-org:v3}code at 0x7fa269892c00>,\n",
       " <Element {urn:hl7-org:v3}code at 0x7fa269892c40>,\n",
       " <Element {urn:hl7-org:v3}value at 0x7fa269892c80>,\n",
       " <Element {urn:hl7-org:v3}code at 0x7fa269892cc0>,\n",
       " <Element {urn:hl7-org:v3}formCode at 0x7fa269892d00>,\n",
       " <Element {urn:hl7-org:v3}code at 0x7fa269892d40>,\n",
       " <Element {urn:hl7-org:v3}value at 0x7fa269892d80>,\n",
       " <Element {urn:hl7-org:v3}code at 0x7fa269892dc0>,\n",
       " <Element {urn:hl7-org:v3}formCode at 0x7fa269892e00>,\n",
       " <Element {urn:hl7-org:v3}code at 0x7fa269892e40>,\n",
       " <Element {urn:hl7-org:v3}formCode at 0x7fa269892e80>,\n",
       " <Element {urn:hl7-org:v3}code at 0x7fa269892ec0>,\n",
       " <Element {urn:hl7-org:v3}code at 0x7fa269892f00>,\n",
       " <Element {urn:hl7-org:v3}value at 0x7fa269892f40>,\n",
       " <Element {urn:hl7-org:v3}code at 0x7fa269892f80>,\n",
       " <Element {urn:hl7-org:v3}code at 0x7fa269892fc0>,\n",
       " <Element {urn:hl7-org:v3}code at 0x7fa269893000>,\n",
       " <Element {urn:hl7-org:v3}code at 0x7fa269893040>,\n",
       " <Element {urn:hl7-org:v3}value at 0x7fa269893080>,\n",
       " <Element {urn:hl7-org:v3}code at 0x7fa2698930c0>,\n",
       " <Element {urn:hl7-org:v3}code at 0x7fa269893100>,\n",
       " <Element {urn:hl7-org:v3}value at 0x7fa269893140>,\n",
       " <Element {urn:hl7-org:v3}code at 0x7fa269893180>,\n",
       " <Element {urn:hl7-org:v3}code at 0x7fa2698931c0>,\n",
       " <Element {urn:hl7-org:v3}routeCode at 0x7fa269893200>,\n",
       " <Element {urn:hl7-org:v3}code at 0x7fa269893240>,\n",
       " <Element {urn:hl7-org:v3}code at 0x7fa269893280>,\n",
       " <Element {urn:hl7-org:v3}code at 0x7fa2698932c0>,\n",
       " <Element {urn:hl7-org:v3}code at 0x7fa269893300>,\n",
       " <Element {urn:hl7-org:v3}code at 0x7fa269893340>,\n",
       " <Element {urn:hl7-org:v3}code at 0x7fa269893380>,\n",
       " <Element {urn:hl7-org:v3}code at 0x7fa2698933c0>,\n",
       " <Element {urn:hl7-org:v3}code at 0x7fa269893400>,\n",
       " <Element {urn:hl7-org:v3}code at 0x7fa269893440>,\n",
       " <Element {urn:hl7-org:v3}code at 0x7fa269893480>,\n",
       " <Element {urn:hl7-org:v3}code at 0x7fa2698934c0>,\n",
       " <Element {urn:hl7-org:v3}code at 0x7fa269893500>,\n",
       " <Element {urn:hl7-org:v3}code at 0x7fa269893540>,\n",
       " <Element {urn:hl7-org:v3}code at 0x7fa269893580>,\n",
       " <Element {urn:hl7-org:v3}code at 0x7fa2698935c0>,\n",
       " <Element {urn:hl7-org:v3}code at 0x7fa269893600>,\n",
       " <Element {urn:hl7-org:v3}code at 0x7fa269893640>]"
      ]
     },
     "execution_count": 5,
     "metadata": {},
     "output_type": "execute_result"
    }
   ],
   "source": [
    "tree.xpath(\"//ns:*[@codeSystem]\", namespaces = {'ns': 'urn:hl7-org:v3'})"
   ]
  },
  {
   "cell_type": "markdown",
   "id": "d4f17d9c-a4c7-4c35-80ec-a3ca9f98d7ef",
   "metadata": {},
   "source": [
    "[<Element {urn:hl7-org:v3}code at 0x7fa269892480>,\n",
    " <Element {urn:hl7-org:v3}code at 0x7fa2698924c0>,\n",
    " <Element {urn:hl7-org:v3}code at 0x7fa269892500>,\n",
    " <Element {urn:hl7-org:v3}formCode at 0x7fa269892540>,\n",
    " <Element {urn:hl7-org:v3}code at 0x7fa269892580>,\n",
    " <Element {urn:hl7-org:v3}code at 0x7fa269892600>,\n",
    " <Element {urn:hl7-org:v3}code at 0x7fa269892640>,\n",
    " <Element {urn:hl7-org:v3}code at 0x7fa269892680>,\n",
    " <Element {urn:hl7-org:v3}code at 0x7fa2698926c0>,\n",
    " <Element {urn:hl7-org:v3}code at 0x7fa2698925c0>,\n",
    " <Element {urn:hl7-org:v3}code at 0x7fa269892700>,\n",
    " <Element {urn:hl7-org:v3}code at 0x7fa269892740>,\n",
    " <Element {urn:hl7-org:v3}code at 0x7fa269892780>,\n",
    " <Element {urn:hl7-org:v3}code at 0x7fa2698927c0>,\n",
    " <Element {urn:hl7-org:v3}code at 0x7fa269892800>,\n",
    " <Element {urn:hl7-org:v3}formCode at 0x7fa269892840>,\n",
    " <Element {urn:hl7-org:v3}code at 0x7fa269892880>,\n",
    " <Element {urn:hl7-org:v3}formCode at 0x7fa2698928c0>,\n",
    " <Element {urn:hl7-org:v3}code at 0x7fa269892900>,\n",
    " <Element {urn:hl7-org:v3}code at 0x7fa269892940>,\n",
    " <Element {urn:hl7-org:v3}value at 0x7fa269892980>,\n",
    " <Element {urn:hl7-org:v3}formCode at 0x7fa2698929c0>,\n",
    " <Element {urn:hl7-org:v3}code at 0x7fa269892a00>,\n",
    " <Element {urn:hl7-org:v3}formCode at 0x7fa269892a40>,\n",
    " <Element {urn:hl7-org:v3}code at 0x7fa269892a80>,\n",
    " <Element {urn:hl7-org:v3}code at 0x7fa269892ac0>,\n",
    " <Element {urn:hl7-org:v3}value at 0x7fa269892b00>,\n",
    " <Element {urn:hl7-org:v3}formCode at 0x7fa269892b40>,\n",
    " <Element {urn:hl7-org:v3}code at 0x7fa269892b80>,\n",
    " <Element {urn:hl7-org:v3}formCode at 0x7fa269892bc0>,\n",
    " <Element {urn:hl7-org:v3}code at 0x7fa269892c00>,\n",
    " <Element {urn:hl7-org:v3}code at 0x7fa269892c40>,\n",
    " <Element {urn:hl7-org:v3}value at 0x7fa269892c80>,\n",
    " <Element {urn:hl7-org:v3}code at 0x7fa269892cc0>,\n",
    " <Element {urn:hl7-org:v3}formCode at 0x7fa269892d00>,\n",
    " <Element {urn:hl7-org:v3}code at 0x7fa269892d40>,\n",
    " <Element {urn:hl7-org:v3}value at 0x7fa269892d80>,\n",
    " <Element {urn:hl7-org:v3}code at 0x7fa269892dc0>,\n",
    " <Element {urn:hl7-org:v3}formCode at 0x7fa269892e00>,\n",
    " <Element {urn:hl7-org:v3}code at 0x7fa269892e40>,\n",
    " <Element {urn:hl7-org:v3}formCode at 0x7fa269892e80>,\n",
    " <Element {urn:hl7-org:v3}code at 0x7fa269892ec0>,\n",
    " <Element {urn:hl7-org:v3}code at 0x7fa269892f00>,\n",
    " <Element {urn:hl7-org:v3}value at 0x7fa269892f40>,\n",
    " <Element {urn:hl7-org:v3}code at 0x7fa269892f80>,\n",
    " <Element {urn:hl7-org:v3}code at 0x7fa269892fc0>,\n",
    " <Element {urn:hl7-org:v3}code at 0x7fa269893000>,\n",
    " <Element {urn:hl7-org:v3}code at 0x7fa269893040>,\n",
    " <Element {urn:hl7-org:v3}value at 0x7fa269893080>,\n",
    " <Element {urn:hl7-org:v3}code at 0x7fa2698930c0>,\n",
    " <Element {urn:hl7-org:v3}code at 0x7fa269893100>,\n",
    " <Element {urn:hl7-org:v3}value at 0x7fa269893140>,\n",
    " <Element {urn:hl7-org:v3}code at 0x7fa269893180>,\n",
    " <Element {urn:hl7-org:v3}code at 0x7fa2698931c0>,\n",
    " <Element {urn:hl7-org:v3}routeCode at 0x7fa269893200>,\n",
    " <Element {urn:hl7-org:v3}code at 0x7fa269893240>,\n",
    " <Element {urn:hl7-org:v3}code at 0x7fa269893280>,\n",
    " <Element {urn:hl7-org:v3}code at 0x7fa2698932c0>,\n",
    " <Element {urn:hl7-org:v3}code at 0x7fa269893300>,\n",
    " <Element {urn:hl7-org:v3}code at 0x7fa269893340>,\n",
    " <Element {urn:hl7-org:v3}code at 0x7fa269893380>,\n",
    " <Element {urn:hl7-org:v3}code at 0x7fa2698933c0>,\n",
    " <Element {urn:hl7-org:v3}code at 0x7fa269893400>,\n",
    " <Element {urn:hl7-org:v3}code at 0x7fa269893440>,\n",
    " <Element {urn:hl7-org:v3}code at 0x7fa269893480>,\n",
    " <Element {urn:hl7-org:v3}code at 0x7fa2698934c0>,\n",
    " <Element {urn:hl7-org:v3}code at 0x7fa269893500>,\n",
    " <Element {urn:hl7-org:v3}code at 0x7fa269893540>,\n",
    " <Element {urn:hl7-org:v3}code at 0x7fa269893580>,\n",
    " <Element {urn:hl7-org:v3}code at 0x7fa2698935c0>,\n",
    " <Element {urn:hl7-org:v3}code at 0x7fa269893600>,\n",
    " <Element {urn:hl7-org:v3}code at 0x7fa269893640>]"
   ]
  },
  {
   "cell_type": "markdown",
   "id": "24ec3215-e5a5-4521-954f-848887922a4a",
   "metadata": {},
   "source": [
    "B"
   ]
  },
  {
   "cell_type": "code",
   "execution_count": 6,
   "id": "2c052477-3fe0-457a-801e-21d89fb3b181",
   "metadata": {},
   "outputs": [
    {
     "name": "stdout",
     "output_type": "stream",
     "text": [
      "{'code': '34068-7', 'codeSystem': '2.16.840.1.113883.6.1', 'displayName': 'DOSAGE & ADMINISTRATION SECTION'}\n"
     ]
    }
   ],
   "source": [
    "for e in tree.xpath(\"//ns:*[@codeSystem and contains(@displayName, 'DOSAGE')]\", namespaces = {'ns': 'urn:hl7-org:v3'}):\n",
    "    print(e.attrib)"
   ]
  },
  {
   "cell_type": "markdown",
   "id": "9fbf00fb-2418-460f-ae94-2a32b0c28952",
   "metadata": {},
   "source": [
    "{'code': '34068-7', 'codeSystem': '2.16.840.1.113883.6.1', 'displayName': 'DOSAGE & ADMINISTRATION SECTION'}"
   ]
  },
  {
   "cell_type": "markdown",
   "id": "f76442d6-d02e-4f26-b9d6-c3183e1d6929",
   "metadata": {},
   "source": [
    "## Pledge\n",
    "\n",
    "By submitting this work I hereby pledge that this is my own, personal work. I've acknowledged in the designated place at the top of this file all sources that I used to complete said work, including but not limited to: online resources, books, and electronic communications. I've noted all collaboration with fellow students and/or TA's. I did not copy or plagiarize another's work.\n",
    "\n",
    "> As a Boilermaker pursuing academic excellence, I pledge to be honest and true in all that I do. Accountable together – We are Purdue."
   ]
  }
 ],
 "metadata": {
  "kernelspec": {
   "display_name": "seminar",
   "language": "python",
   "name": "seminar"
  },
  "language_info": {
   "codemirror_mode": {
    "name": "ipython",
    "version": 3
   },
   "file_extension": ".py",
   "mimetype": "text/x-python",
   "name": "python",
   "nbconvert_exporter": "python",
   "pygments_lexer": "ipython3",
   "version": "3.11.5"
  }
 },
 "nbformat": 4,
 "nbformat_minor": 5
}
